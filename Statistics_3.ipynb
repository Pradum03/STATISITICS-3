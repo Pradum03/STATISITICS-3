{
 "cells": [
  {
   "cell_type": "markdown",
   "id": "10c00553-5e06-48e3-bf30-019445502402",
   "metadata": {},
   "source": [
    "ASSIGNMENT: STATISITICS-3"
   ]
  },
  {
   "cell_type": "markdown",
   "id": "df6834a9-f056-4439-ac02-edcdf71aab41",
   "metadata": {},
   "source": [
    "1.  What is the Probability density function?"
   ]
  },
  {
   "cell_type": "markdown",
   "id": "e9bcf1d4-658f-4ec6-93d6-1dc1d001b9c2",
   "metadata": {},
   "source": [
    "A probability density function (PDF) is a mathematical function that describes the likelihood of a random variable taking on a particular value or set of values. It is often used in statistics and probability theory to describe continuous random variables, which can take on an infinite number of possible values within a given range.\n",
    "\n",
    "The PDF is defined as the derivative of the cumulative distribution function (CDF), which describes the probability of the random variable being less than or equal to a certain value. In other words, the PDF gives us the rate at which the CDF changes as we move along the range of possible values.\n",
    "\n",
    "The PDF can be used to calculate the probability of a random variable taking on a value within a certain range by integrating the PDF over that range. The area under the curve of the PDF is always equal to 1, since the total probability of all possible outcomes must add up to 1.\n",
    "\n",
    "Some common examples of continuous random variables that can be described by a PDF include the normal distribution, the exponential distribution, and the beta distribution."
   ]
  },
  {
   "cell_type": "markdown",
   "id": "4ae2303e-3e2e-4c5f-b540-3595d51d7868",
   "metadata": {},
   "source": [
    "2.  What are the types of Probability distribution?"
   ]
  },
  {
   "cell_type": "markdown",
   "id": "b978b3df-f484-4af9-94be-0d180c143dec",
   "metadata": {},
   "source": [
    "Normal Distribution: Also known as the Gaussian distribution, this is perhaps the most well-known probability distribution. It has a bell-shaped curve and is often used to model natural phenomena such as height, weight, and IQ.\n",
    "\n",
    "Binomial Distribution: This distribution is used to model the number of successes in a fixed number of independent trials, each with a constant probability of success. It is often used in experiments and surveys.\n",
    "\n",
    "Poisson Distribution: This distribution is used to model the number of occurrences of a rare event in a fixed interval of time or space. It is often used in studies of earthquakes, traffic accidents, and other rare phenomena.\n",
    "\n",
    "Exponential Distribution: This distribution is used to model the time between two consecutive events in a Poisson process. It is often used in reliability studies, where it is used to model the time between failures of a component or system.\n",
    "\n",
    "Uniform Distribution: This distribution assigns equal probability to all values within a specified range. It is often used in simulations and computer algorithms.\n",
    "\n",
    "Gamma Distribution: This distribution is used to model the time until a certain number of events have occurred in a Poisson process. It is often used in survival analysis and reliability studies.\n",
    "\n",
    "Beta Distribution: This distribution is used to model probabilities or proportions. It is often used in Bayesian analysis and quality control."
   ]
  },
  {
   "cell_type": "markdown",
   "id": "452b2551-6ee5-45c0-ba6d-ef6e0eaec4e9",
   "metadata": {},
   "source": [
    "3.  Write a Python function to calculate the probability density function of a normal distribution with \n",
    "given mean and standard deviation at a given point. "
   ]
  },
  {
   "cell_type": "code",
   "execution_count": 2,
   "id": "b2831570-81a5-4e2a-81ef-3ccd5220848e",
   "metadata": {},
   "outputs": [],
   "source": [
    "import math\n",
    "\n",
    "def normal_pdf(x, mu, sigma):\n",
    "    \"\"\"\n",
    "    Calculates the probability density function (PDF) of a normal distribution with given mean and standard deviation\n",
    "    at a given point.\n",
    "    \n",
    "    Arguments:\n",
    "    x -- the point at which to evaluate the PDF\n",
    "    mu -- the mean of the normal distribution\n",
    "    sigma -- the standard deviation of the normal distribution\n",
    "    \n",
    "    Returns:\n",
    "    The PDF of the normal distribution at x\n",
    "    \"\"\"\n",
    "    return math.exp(-(x - mu)**2 / (2 * sigma**2)) / math.sqrt(2 * math.pi * sigma**2)\n"
   ]
  },
  {
   "cell_type": "code",
   "execution_count": 3,
   "id": "353cf4fd-56ac-405e-8d08-58e193e19031",
   "metadata": {},
   "outputs": [
    {
     "name": "stdout",
     "output_type": "stream",
     "text": [
      "0.24197072451914337\n"
     ]
    }
   ],
   "source": [
    "# calculate the PDF of a normal distribution with mean 0 and standard deviation 1 at x = 1\n",
    "pdf = normal_pdf(1, 0, 1)\n",
    "print(pdf)\n"
   ]
  },
  {
   "cell_type": "markdown",
   "id": "9d6180f3-0b20-4b34-886e-bf438dea35b0",
   "metadata": {},
   "source": [
    "4. What are the properties of Binomial distribution? Give two examples of events where binomial \n",
    "distribution can be applied"
   ]
  },
  {
   "cell_type": "markdown",
   "id": "6df4fb81-0783-44f5-b48e-a1114920f6c4",
   "metadata": {},
   "source": [
    "The binomial distribution is a probability distribution that models the number of successes in a fixed number of independent trials, each with a constant probability of success. Here are some of the key properties of the binomial distribution:\n",
    "\n",
    "The trials are independent: The outcome of each trial does not affect the outcome of the other trials.\n",
    "\n",
    "There are only two possible outcomes: Each trial can either result in a success or a failure.\n",
    "\n",
    "The probability of success is constant: The probability of success is the same for each trial.\n",
    "\n",
    "The number of trials is fixed: The number of trials is known in advance.\n",
    "\n",
    "The random variable is discrete: The number of successes is a whole number.\n",
    "\n",
    "Examples of events where the binomial distribution can be applied include:\n",
    "\n",
    "Flipping a coin: Suppose you flip a fair coin 10 times and want to know the probability of getting exactly 5 heads. This can be modeled using a binomial distribution with n=10 and p=0.5.\n",
    "\n",
    "Quality control: Suppose a factory produces light bulbs, and each bulb has a 95% chance of passing a quality test. If we test 100 bulbs, we can use a binomial distribution to calculate the probability of a certain number of bulbs passing the test.\n",
    "\n",
    "In general, the binomial distribution can be used to model any situation where we have a fixed number of independent trials, each with a constant probability of success or failure."
   ]
  },
  {
   "cell_type": "markdown",
   "id": "b65e8eb0-6045-4fe1-a6bd-4b17a784f221",
   "metadata": {},
   "source": [
    "5. Generate a random sample of size 1000 from a binomial distribution with probability of success 0.4 \n",
    "and plot a histogram of the results using matplotlib."
   ]
  },
  {
   "cell_type": "code",
   "execution_count": 4,
   "id": "19aa102b-d8d3-4dd9-9e9e-162d06a10e35",
   "metadata": {},
   "outputs": [
    {
     "data": {
      "image/png": "[encoded data removed]",
      "text/plain": [
       "<Figure size 640x480 with 1 Axes>"
      ]
     },
     "metadata": {},
     "output_type": "display_data"
    }
   ],
   "source": [
    "import numpy as np\n",
    "import matplotlib.pyplot as plt\n",
    "\n",
    "# set the parameters for the binomial distribution\n",
    "n = 10\n",
    "p = 0.4\n",
    "\n",
    "# generate a random sample of size 1000 from the binomial distribution\n",
    "sample = np.random.binomial(n, p, size=1000)\n",
    "\n",
    "# plot a histogram of the results\n",
    "plt.hist(sample, bins=range(n+2), density=True, edgecolor='black')\n",
    "plt.xlabel('Number of successes')\n",
    "plt.ylabel('Probability')\n",
    "plt.title(f'Histogram of {len(sample)} samples from a binomial distribution with n={n} and p={p}')\n",
    "plt.show()\n"
   ]
  },
  {
   "cell_type": "markdown",
   "id": "17aaec7a-640f-43a6-8cd7-7e88c981a29e",
   "metadata": {},
   "source": [
    "6.  Write a Python function to calculate the cumulative distribution function of a Poisson distribution \n",
    "with given mean at a given point"
   ]
  },
  {
   "cell_type": "code",
   "execution_count": 5,
   "id": "7833e9e1-3ee6-4c90-8b5b-9cb5862c77c9",
   "metadata": {},
   "outputs": [],
   "source": [
    "import math\n",
    "\n",
    "def poisson_cdf(x, mu):\n",
    "    \"\"\"\n",
    "    Calculates the cumulative distribution function (CDF) of a Poisson distribution with given mean at a given point.\n",
    "    \n",
    "    Arguments:\n",
    "    x -- the point at which to evaluate the CDF\n",
    "    mu -- the mean of the Poisson distribution\n",
    "    \n",
    "    Returns:\n",
    "    The CDF of the Poisson distribution at x\n",
    "    \"\"\"\n",
    "    cdf = 0\n",
    "    for i in range(x+1):\n",
    "        cdf += math.exp(-mu) * mu**i / math.factorial(i)\n",
    "    return cdf\n"
   ]
  },
  {
   "cell_type": "code",
   "execution_count": 6,
   "id": "285c4638-877c-41b6-ad84-f6b6d35ac363",
   "metadata": {},
   "outputs": [
    {
     "name": "stdout",
     "output_type": "stream",
     "text": [
      "0.9160820579686966\n"
     ]
    }
   ],
   "source": [
    "# calculate the CDF of a Poisson distribution with mean 3 at x = 5\n",
    "cdf = poisson_cdf(5, 3)\n",
    "print(cdf)\n"
   ]
  },
  {
   "cell_type": "markdown",
   "id": "57deddff-9dd7-4cd6-90cc-3e69ee73610e",
   "metadata": {},
   "source": [
    "7.  How Binomial distribution different from Poisson distribution?"
   ]
  },
  {
   "cell_type": "markdown",
   "id": "cb431420-aa46-4cd1-8648-1f28fba573f9",
   "metadata": {},
   "source": [
    "Binomial and Poisson distributions are both discrete probability distributions, but they are used to model different types of events. Here are the main differences between them:\n",
    "\n",
    "Definition: The binomial distribution models the number of successes in a fixed number of independent trials, each with a constant probability of success. The Poisson distribution models the number of events that occur in a fixed interval of time or space, given a known average rate of occurrence.\n",
    "\n",
    "Number of trials: In a binomial distribution, the number of trials is fixed and known in advance. In a Poisson distribution, there is no fixed number of trials; events occur randomly over time or space.\n",
    "\n",
    "Probability of success: In a binomial distribution, the probability of success is constant for each trial. In a Poisson distribution, the average rate of occurrence is constant, but the probability of any specific event occurring may vary.\n",
    "\n",
    "Parameter estimation: In a binomial distribution, the parameters are the number of trials and the probability of success, which can be estimated from the data. In a Poisson distribution, the parameter is the average rate of occurrence, which can also be estimated from the data.\n",
    "\n",
    "Shape of the distribution: In a binomial distribution, the shape of the distribution is bell-shaped if the number of trials is large enough. In a Poisson distribution, the shape of the distribution is skewed to the right if the rate of occurrence is low, and becomes more symmetric as the rate of occurrence increases.\n",
    "\n",
    "In summary, the binomial distribution is used to model events with a fixed number of independent trials, each with a constant probability of success, while the Poisson distribution is used to model events that occur randomly over time or space, given a known average rate of occurrence."
   ]
  },
  {
   "cell_type": "markdown",
   "id": "8d28333a-88c2-4fd0-9c1a-a3eccaef45fe",
   "metadata": {},
   "source": [
    "8. Generate a random sample of size 1000 from a Poisson distribution with mean 5 and calculate the \n",
    "sample mean and variance"
   ]
  },
  {
   "cell_type": "code",
   "execution_count": 7,
   "id": "c50a55c8-d60b-415e-a27b-6a6e890c8370",
   "metadata": {},
   "outputs": [
    {
     "name": "stdout",
     "output_type": "stream",
     "text": [
      "Sample mean: 5.0570\n",
      "Sample variance: 5.2250\n"
     ]
    }
   ],
   "source": [
    "import numpy as np\n",
    "\n",
    "# set the parameters for the Poisson distribution\n",
    "mu = 5\n",
    "\n",
    "# generate a random sample of size 1000 from the Poisson distribution\n",
    "sample = np.random.poisson(mu, size=1000)\n",
    "\n",
    "# calculate the sample mean and variance\n",
    "sample_mean = np.mean(sample)\n",
    "sample_var = np.var(sample, ddof=1)\n",
    "\n",
    "# print the results\n",
    "print(f\"Sample mean: {sample_mean:.4f}\")\n",
    "print(f\"Sample variance: {sample_var:.4f}\")\n"
   ]
  },
  {
   "cell_type": "markdown",
   "id": "2e3bd07e-2afa-4a2e-8d3c-d136fb51578d",
   "metadata": {},
   "source": [
    "9. How mean and variance are related in Binomial distribution and Poisson distribution?"
   ]
  },
  {
   "cell_type": "markdown",
   "id": "e7cf10ed-98b5-4992-8bd4-c40a9ad9fbe5",
   "metadata": {},
   "source": [
    "In a binomial distribution, the mean and variance are related by the formula:\n",
    "\n",
    "mean = n * p\n",
    "variance = n * p * (1 - p)\n",
    "\n",
    "where n is the number of trials and p is the probability of success in each trial.\n",
    "\n",
    "In a Poisson distribution, the mean and variance are equal and are both equal to the parameter mu of the distribution:\n",
    "    \n",
    "    mean = variance = mu\n",
    "This means that the spread of the Poisson distribution is solely determined by its mean, and the variance is equal to the mean.\n",
    "\n",
    "Both distributions have a single parameter that determines the mean and variance of the distribution. For the binomial distribution, it is the number of trials n and the probability of success p, while for the Poisson distribution, it is the rate parameter mu. The relationship between mean and variance is different for these two distributions, and it reflects the underlying structure of the events they model."
   ]
  },
  {
   "cell_type": "markdown",
   "id": "cc5341fc-a42d-46d8-b15c-e3bd802dab5a",
   "metadata": {},
   "source": [
    "In the case of the Poisson distribution, mu represents the mean number of events that occur in a fixed interval of time or space. This parameter is also sometimes referred to as the \"rate\" parameter, since it determines the average rate of occurrence of events.\n",
    "\n",
    "For example, if we are interested in modeling the number of earthquakes that occur in a region over a given period of time, we might use a Poisson distribution with a parameter mu that represents the average number of earthquakes per unit time. If mu is equal to 3, we would expect to see on average three earthquakes per unit time, but the actual number of earthquakes in any given time interval could be more or less than three, since the Poisson distribution is a random process."
   ]
  },
  {
   "cell_type": "markdown",
   "id": "93a64dca-d9b3-4594-95f6-029c5c551e34",
   "metadata": {},
   "source": [
    "10. In normal distribution with respect to mean position, where does the least frequent data appear?"
   ]
  },
  {
   "cell_type": "markdown",
   "id": "81faf667-661d-48ad-9027-0647c3c6c088",
   "metadata": {},
   "source": [
    "In a normal distribution, the least frequent data appears at the tails of the distribution, which are the extreme values that are far away from the mean.\n",
    "\n",
    "Specifically, the least frequent data appears in the regions of the distribution that are more than a few standard deviations away from the mean. This is because the normal distribution is a bell-shaped curve that is centered around the mean, and the majority of the data falls within a few standard deviations of the mean. The tails of the distribution, which represent the extreme values, become increasingly rare as they move away from the mean.\n",
    "\n",
    "For example, in a normal distribution with mean 0 and standard deviation 1, the least frequent data would appear in the regions that are more than 3 standard deviations away from the mean, since less than 0.3% of the data falls in these regions."
   ]
  },
  {
   "cell_type": "code",
   "execution_count": null,
   "id": "1e16549f-8af2-466d-8266-622415e90391",
   "metadata": {},
   "outputs": [],
   "source": []
  }
 ],
 "metadata": {
  "kernelspec": {
   "display_name": "Python 3 (ipykernel)",
   "language": "python",
   "name": "python3"
  },
  "language_info": {
   "codemirror_mode": {
    "name": "ipython",
    "version": 3
   },
   "file_extension": ".py",
   "mimetype": "text/x-python",
   "name": "python",
   "nbconvert_exporter": "python",
   "pygments_lexer": "ipython3",
   "version": "3.10.8"
  }
 },
 "nbformat": 4,
 "nbformat_minor": 5
}
